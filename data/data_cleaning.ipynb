{
 "cells": [
  {
   "cell_type": "markdown",
   "id": "8ee6739a",
   "metadata": {},
   "source": [
    "# Creando dataset"
   ]
  },
  {
   "cell_type": "code",
   "execution_count": 1,
   "id": "5516f199",
   "metadata": {},
   "outputs": [],
   "source": [
    "import pandas as pd \n",
    "import numpy as np \n",
    "import json"
   ]
  },
  {
   "cell_type": "markdown",
   "id": "cca87c11",
   "metadata": {},
   "source": [
    "Deteccion de microparadas\n",
    "Flujo:\n",
    "1. Primero generaremos csv de microparadas para cada objeto\n",
    "2. Como seran csv entonces ya "
   ]
  },
  {
   "cell_type": "code",
   "execution_count": 2,
   "id": "7cbb2038",
   "metadata": {},
   "outputs": [
    {
     "name": "stdout",
     "output_type": "stream",
     "text": [
      "   Id         Fecha y hora               posición  Distancia (m)  \\\n",
      "0   1  29/09/2025 22:15:14  S12 04.069 W77 03.038              0   \n",
      "1   2  29/09/2025 22:16:14  S12 04.134 W77 02.957            191   \n",
      "2   3  29/09/2025 22:16:44  S12 04.137 W77 02.956              5   \n",
      "\n",
      "  Tiempo de registro (s)  Velocidad (km/h)  \n",
      "0                0:00:00                 0  \n",
      "1                0:01:00                11  \n",
      "2                0:00:30                 1  \n"
     ]
    }
   ],
   "source": [
    "df_1 = pd.read_csv(\"../BD_Innovathon/Objeto_1_ES_pos.csv\")\n",
    "df_2 = pd.read_csv(\"../BD_Innovathon/Objeto_2_ES_pos.csv\")\n",
    "print(df_2.head(3))"
   ]
  },
  {
   "cell_type": "code",
   "execution_count": 10,
   "id": "16956a1e",
   "metadata": {},
   "outputs": [],
   "source": [
    "def detect_microparadas_by_object(dataframe_object, object_id):\n",
    "    # for para cada registro    \n",
    "    dataframe_object['is_microparada'] = dataframe_object['Velocidad (km/h)'].apply(lambda x: 1 if x < 6 else 0)\n",
    "    ultima_fila = dataframe_object.iloc[-1]\n",
    "    alerta = bool(ultima_fila['is_microparada'] == 1)\n",
    "\n",
    "    # Respuesta tipo JSON para la mini app\n",
    "    result = {\n",
    "        \"objeto_id\": object_id,\n",
    "        \"alerta\": alerta,\n",
    "        \"fecha_hora\": str(ultima_fila['Fecha y hora']),\n",
    "        \"posicion\": ultima_fila['posición'],\n",
    "        \"velocidad\": ultima_fila['Velocidad (km/h)']\n",
    "    }\n",
    "    return result\n",
    "    "
   ]
  },
  {
   "cell_type": "code",
   "execution_count": 11,
   "id": "36d423c5",
   "metadata": {},
   "outputs": [
    {
     "name": "stdout",
     "output_type": "stream",
     "text": [
      "{'objeto_id': 1, 'alerta': True, 'fecha_hora': '29/09/2025 23:19:19', 'posicion': 'S11 59.972 W76 49.870', 'velocidad': np.int64(0)}\n"
     ]
    }
   ],
   "source": [
    "dft_1 = detect_microparadas_by_object(df_1, 1)\n",
    "print(dft_1)\n",
    "#dft_2 = detect_microparadas_by_object(df_2, objeto_id=2) \n",
    "#print(dft_2.shape)\n",
    "#dft_2 = detect_microparadas_by_object(df_2, objeto_id=2)\n",
    "#dft_3 = detect_microparadas_by_object(df_3, objeto_id=3)"
   ]
  },
  {
   "cell_type": "code",
   "execution_count": 13,
   "id": "49afe48e",
   "metadata": {},
   "outputs": [
    {
     "name": "stdout",
     "output_type": "stream",
     "text": [
      "Collecting scikit-learn\n",
      "  Using cached scikit_learn-1.7.2-cp312-cp312-manylinux2014_x86_64.manylinux_2_17_x86_64.whl.metadata (11 kB)\n",
      "Requirement already satisfied: numpy>=1.22.0 in /home/jazmin/Escritorio/AlertaVIAl/.venv/lib/python3.12/site-packages (from scikit-learn) (2.3.3)\n",
      "Collecting scipy>=1.8.0 (from scikit-learn)\n",
      "  Using cached scipy-1.16.2-cp312-cp312-manylinux2014_x86_64.manylinux_2_17_x86_64.whl.metadata (62 kB)\n",
      "Collecting joblib>=1.2.0 (from scikit-learn)\n",
      "  Using cached joblib-1.5.2-py3-none-any.whl.metadata (5.6 kB)\n",
      "Collecting threadpoolctl>=3.1.0 (from scikit-learn)\n",
      "  Using cached threadpoolctl-3.6.0-py3-none-any.whl.metadata (13 kB)\n",
      "Using cached scikit_learn-1.7.2-cp312-cp312-manylinux2014_x86_64.manylinux_2_17_x86_64.whl (9.5 MB)\n",
      "Using cached joblib-1.5.2-py3-none-any.whl (308 kB)\n",
      "Using cached scipy-1.16.2-cp312-cp312-manylinux2014_x86_64.manylinux_2_17_x86_64.whl (35.7 MB)\n",
      "Using cached threadpoolctl-3.6.0-py3-none-any.whl (18 kB)\n",
      "Installing collected packages: threadpoolctl, scipy, joblib, scikit-learn\n",
      "\u001b[2K   \u001b[90m━━━━━━━━━━━━━━━━━━━━━━━━━━━━━━━━━━━━━━━━\u001b[0m \u001b[32m4/4\u001b[0m [scikit-learn][0m [scikit-learn]\n",
      "\u001b[1A\u001b[2KSuccessfully installed joblib-1.5.2 scikit-learn-1.7.2 scipy-1.16.2 threadpoolctl-3.6.0\n"
     ]
    }
   ],
   "source": [
    "!pip install scikit-learn"
   ]
  },
  {
   "cell_type": "code",
   "execution_count": 17,
   "id": "9c0856f0",
   "metadata": {},
   "outputs": [],
   "source": [
    "import pandas as pd\n",
    "from sklearn.model_selection import train_test_split\n",
    "from sklearn.ensemble import RandomForestClassifier\n",
    "\n",
    "# 1. Cargar datos y detectar microparadas\n",
    "df = pd.read_csv(\"../BD_Innovathon/Objeto_1_ES_pos.csv\")\n",
    "df['is_microparada'] = df['Velocidad (km/h)'].apply(lambda v: 1 if v < 6 else 0)\n",
    "df['hora'] = pd.to_datetime(df['Fecha y hora'], dayfirst=True).dt.hour\n",
    "df['dia_semana'] = pd.to_datetime(df['Fecha y hora'], dayfirst=True).dt.dayofweek\n",
    "\n",
    "\n",
    "# 2. Generar etiquetas (congestión si hay muchas microparadas en un lugar/hora)\n",
    "trafico = df.groupby(['posición','hora']).agg({'is_microparada':'sum'}).reset_index()\n",
    "trafico['y'] = (trafico['is_microparada'] >= 3).astype(int)\n",
    "\n",
    "# 3. Variables predictoras\n",
    "X = trafico[['hora']]\n",
    "y = trafico['y']\n",
    "\n",
    "# 4. Modelo simple\n",
    "X_train, X_test, y_train, y_test = train_test_split(X, y, test_size=0.2, random_state=42)\n",
    "modelo = RandomForestClassifier()\n",
    "modelo.fit(X_train, y_train)\n",
    "\n",
    "# 5. Predicción\n",
    "predicciones = modelo.predict(X_test)\n",
    "\n"
   ]
  },
  {
   "cell_type": "code",
   "execution_count": 18,
   "id": "86e9502d",
   "metadata": {},
   "outputs": [
    {
     "name": "stdout",
     "output_type": "stream",
     "text": [
      "[0 0 0 0 0 0 0 0 0 0 0 0 0 0 0]\n"
     ]
    }
   ],
   "source": [
    "print(predicciones)"
   ]
  },
  {
   "cell_type": "code",
   "execution_count": 19,
   "id": "eee58772",
   "metadata": {},
   "outputs": [
    {
     "name": "stdout",
     "output_type": "stream",
     "text": [
      "Análisis de datos:\n",
      "Total de microparadas: 25\n",
      "Porcentaje de microparadas: 30.12%\n",
      "\n",
      "Distribución por hora:\n",
      "      count  sum      mean\n",
      "hora                      \n",
      "22       62   18  0.290323\n",
      "23       21    7  0.333333\n",
      "\n",
      "Datos de tráfico agrupados:\n",
      "                posición  hora  is_microparada  y\n",
      "0  S11 59.937 W76 50.025    23               0  0\n",
      "1  S11 59.938 W76 50.023    23               1  0\n",
      "2  S11 59.938 W76 50.028    23               0  0\n",
      "3  S11 59.972 W76 49.870    23               3  1\n",
      "4  S11 59.972 W76 49.872    23               3  1\n",
      "5  S11 59.974 W76 49.878    23               0  0\n",
      "6  S11 59.975 W76 49.869    23               0  0\n",
      "7  S12 00.021 W76 49.986    23               0  0\n",
      "8  S12 00.021 W76 49.989    23               0  0\n",
      "9  S12 00.029 W76 49.994    23               0  0\n",
      "\n",
      "Etiquetas de congestión (y=1): 3\n",
      "Total de observaciones: 73\n"
     ]
    }
   ],
   "source": [
    "# Analizar los datos para entender mejor el problema\n",
    "print(\"Análisis de datos:\")\n",
    "print(f\"Total de microparadas: {df['is_microparada'].sum()}\")\n",
    "print(f\"Porcentaje de microparadas: {df['is_microparada'].mean()*100:.2f}%\")\n",
    "print(\"\\nDistribución por hora:\")\n",
    "print(df.groupby('hora')['is_microparada'].agg(['count', 'sum', 'mean']))\n",
    "\n",
    "print(\"\\nDatos de tráfico agrupados:\")\n",
    "print(trafico.head(10))\n",
    "print(f\"\\nEtiquetas de congestión (y=1): {trafico['y'].sum()}\")\n",
    "print(f\"Total de observaciones: {len(trafico)}\")"
   ]
  },
  {
   "cell_type": "code",
   "execution_count": 22,
   "id": "49201481",
   "metadata": {},
   "outputs": [
    {
     "name": "stdout",
     "output_type": "stream",
     "text": [
      "[OK] Archivo generado: ../BD_Innovathon/Objeto_2_ES_pos_num.csv\n",
      "[OK] Archivo generado: ../BD_Innovathon/Objeto_3_ES_pos_num.csv\n",
      "[OK] Archivo generado: ../BD_Innovathon/Objeto_4_ES_pos_num.csv\n",
      "[OK] Archivo generado: ../BD_Innovathon/Objeto_5_ES_pos_num.csv\n",
      "[OK] Archivo generado: ../BD_Innovathon/Objeto_6_ES_pos_num.csv\n",
      "[OK] Archivo generado: ../BD_Innovathon/Objeto_7_ES_pos_num.csv\n",
      "[OK] Archivo generado: ../BD_Innovathon/Objeto_8_ES_pos_num.csv\n",
      "[OK] Archivo generado: ../BD_Innovathon/Objeto_9_ES_pos_num.csv\n",
      "[OK] Archivo generado: ../BD_Innovathon/Objeto_10_ES_pos_num.csv\n"
     ]
    }
   ],
   "source": [
    "#!/usr/bin/env python3\n",
    "# -*- coding: utf-8 -*-\n",
    "\n",
    "import pandas as pd\n",
    "\n",
    "def pos_to_latlon(pos_str):\n",
    "    \"\"\"Convierte 'S12 01.393 W76 54.690' a lat/lon decimales.\"\"\"\n",
    "    if pd.isna(pos_str):\n",
    "        return None, None\n",
    "    try:\n",
    "        parts = pos_str.replace(\"O\", \"W\").split()\n",
    "        hemi_lat, deg_lat, min_lat = parts[0][0], float(parts[0][1:]), float(parts[1])\n",
    "        hemi_lon, deg_lon, min_lon = parts[2][0], float(parts[2][1:]), float(parts[3])\n",
    "        lat = deg_lat + min_lat/60\n",
    "        lon = deg_lon + min_lon/60\n",
    "        if hemi_lat.upper() == \"S\": lat = -lat\n",
    "        if hemi_lon.upper() == \"W\": lon = -lon\n",
    "        return round(lat, 6), round(lon, 6)\n",
    "    except:\n",
    "        return None, None\n",
    "\n",
    "def preparar_csv(input_path, output_path):\n",
    "    df = pd.read_csv(input_path, encoding=\"utf-8-sig\")\n",
    "\n",
    "    # Lat/Lon\n",
    "    df[[\"Latitud\", \"Longitud\"]] = df[\"posición\"].apply(lambda x: pd.Series(pos_to_latlon(x)))\n",
    "\n",
    "    # Descomponer fecha y hora\n",
    "    dt = pd.to_datetime(df[\"Fecha y hora\"], dayfirst=True, errors=\"coerce\")\n",
    "    df[\"Año\"] = dt.dt.year\n",
    "    df[\"Mes\"] = dt.dt.month\n",
    "    df[\"Día\"] = dt.dt.day\n",
    "    df[\"Hora\"] = dt.dt.hour\n",
    "    df[\"Minuto\"] = dt.dt.minute\n",
    "    df[\"Segundo\"] = dt.dt.second\n",
    "\n",
    "    # Marcar microparadas\n",
    "    df[\"is_microparada\"] = df[\"Velocidad (km/h)\"].apply(lambda x: 1 if x < 6 else 0)\n",
    "\n",
    "    # Nos quedamos SOLO con las columnas procesadas\n",
    "    df_final = df[[\"Id\", \"Latitud\", \"Longitud\", \"Año\", \"Mes\", \"Día\", \"Hora\", \"Minuto\", \"Segundo\", \"Velocidad (km/h)\", \"is_microparada\"]]\n",
    "\n",
    "    # Guardar\n",
    "    df_final.to_csv(output_path, index=False, encoding=\"utf-8-sig\")\n",
    "    print(f\"[OK] Archivo generado: {output_path}\")\n",
    "\n",
    "\n",
    "\n",
    "# Ejemplo de uso\n",
    "if __name__ == \"__main__\":\n",
    "    preparar_csv(\"../BD_Innovathon/Objeto_2_ES_pos.csv\", \"../BD_Innovathon/Objeto_2_ES_pos_num.csv\")\n",
    "    preparar_csv(\"../BD_Innovathon/Objeto_3_ES_pos.csv\", \"../BD_Innovathon/Objeto_3_ES_pos_num.csv\")\n",
    "    preparar_csv(\"../BD_Innovathon/Objeto_4_ES_pos.csv\", \"../BD_Innovathon/Objeto_4_ES_pos_num.csv\")\n",
    "    preparar_csv(\"../BD_Innovathon/Objeto_5_ES_pos.csv\", \"../BD_Innovathon/Objeto_5_ES_pos_num.csv\")\n",
    "    preparar_csv(\"../BD_Innovathon/Objeto_6_ES_pos.csv\", \"../BD_Innovathon/Objeto_6_ES_pos_num.csv\")\n",
    "    preparar_csv(\"../BD_Innovathon/Objeto_7_ES_pos.csv\", \"../BD_Innovathon/Objeto_7_ES_pos_num.csv\")\n",
    "    preparar_csv(\"../BD_Innovathon/Objeto_8_ES_pos.csv\", \"../BD_Innovathon/Objeto_8_ES_pos_num.csv\")\n",
    "    preparar_csv(\"../BD_Innovathon/Objeto_9_ES_pos.csv\", \"../BD_Innovathon/Objeto_9_ES_pos_num.csv\")\n",
    "    preparar_csv(\"../BD_Innovathon/Objeto_10_ES_pos.csv\", \"../BD_Innovathon/Objeto_10_ES_pos_num.csv\")\n",
    "\n"
   ]
  }
 ],
 "metadata": {
  "kernelspec": {
   "display_name": ".venv",
   "language": "python",
   "name": "python3"
  },
  "language_info": {
   "codemirror_mode": {
    "name": "ipython",
    "version": 3
   },
   "file_extension": ".py",
   "mimetype": "text/x-python",
   "name": "python",
   "nbconvert_exporter": "python",
   "pygments_lexer": "ipython3",
   "version": "3.12.3"
  }
 },
 "nbformat": 4,
 "nbformat_minor": 5
}
